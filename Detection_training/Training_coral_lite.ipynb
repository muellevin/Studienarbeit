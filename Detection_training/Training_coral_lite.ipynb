{
  "cells": [
    {
      "cell_type": "markdown",
      "metadata": {
        "id": "fhyQxxzJIab3"
      },
      "source": [
        "# Clone my repo to get all paths"
      ]
    },
    {
      "cell_type": "code",
      "execution_count": null,
      "metadata": {
        "colab": {
          "base_uri": "https://localhost:8080/"
        },
        "id": "SKu8-187Iab9",
        "outputId": "c24b5afb-54c7-4f3e-f277-bc6f5990ca99"
      },
      "outputs": [],
      "source": [
        "# So Colab can use the python files...\n",
        "!git clone --single-branch -b develop https://github.com/muellevin/Studienarbeit.git\n",
        "%cd Studienarbeit/Detection_training"
      ]
    },
    {
      "cell_type": "markdown",
      "metadata": {
        "id": "ex0KGMPNIacA"
      },
      "source": [
        " and set all up"
      ]
    },
    {
      "cell_type": "code",
      "execution_count": null,
      "metadata": {
        "colab": {
          "base_uri": "https://localhost:8080/"
        },
        "id": "BpSnFjOsIacC",
        "outputId": "9652a37a-c068-4a1c-c281-a035f5d4210d"
      },
      "outputs": [],
      "source": [
        "import os\n",
        "import Tensorflow.scripts.Paths as pp\n",
        "\n",
        "CUSTOM_MODEL_NAME = 'raccoonModel_50ep_b16_efficientdetlit0_17070' \n",
        "\n",
        "paths = pp.paths\n",
        "paths.setup_paths()\n",
        "\n",
        "OUTPUT_PATH = os.path.join(paths.MODEL_PATH, CUSTOM_MODEL_NAME, 'export')\n",
        "SAVED_MODEL = os.path.join(OUTPUT_PATH, 'saved_model')\n",
        "TFLITE_EXPORT = os.path.join(OUTPUT_PATH, 'tfliteexport')\n",
        "os.makedirs(OUTPUT_PATH, exist_ok=True)\n"
      ]
    },
    {
      "cell_type": "markdown",
      "metadata": {
        "id": "Vf6uc-qeIacD"
      },
      "source": [
        "# Setup for EfficientDet-Lite"
      ]
    },
    {
      "cell_type": "code",
      "execution_count": null,
      "metadata": {
        "colab": {
          "base_uri": "https://localhost:8080/"
        },
        "id": "uhihu1TMIacE",
        "outputId": "5ea801bb-9b53-48e4-9e28-c4579a344f75"
      },
      "outputs": [],
      "source": [
        "!pip install -q tflite-model-maker"
      ]
    },
    {
      "cell_type": "code",
      "execution_count": null,
      "metadata": {
        "colab": {
          "base_uri": "https://localhost:8080/"
        },
        "id": "J0J8QBUaIacE",
        "outputId": "d1bdda1a-7e27-4598-e456-088d7640ba1b"
      },
      "outputs": [],
      "source": [
        "import numpy as np\n",
        "import os\n",
        "\n",
        "from tflite_model_maker.config import ExportFormat\n",
        "from tflite_model_maker import model_spec\n",
        "from tflite_model_maker import object_detector\n",
        "\n",
        "import tensorflow as tf\n",
        "assert tf.__version__.startswith('2')\n",
        "\n",
        "tf.get_logger().setLevel('ERROR')\n",
        "from absl import logging\n",
        "logging.set_verbosity(logging.ERROR)"
      ]
    },
    {
      "cell_type": "markdown",
      "metadata": {
        "id": "fzTbPGCaIacF"
      },
      "source": [
        "# Upload images"
      ]
    },
    {
      "cell_type": "code",
      "execution_count": null,
      "metadata": {
        "colab": {
          "base_uri": "https://localhost:8080/"
        },
        "id": "o3QsF8ciIacG",
        "outputId": "956072da-c319-4789-958b-5caa9334ff5f"
      },
      "outputs": [],
      "source": [
        "GOOGLE_DRIVE_PATH = '/content/drive/MyDrive/Studienarbeit'\n",
        "\n",
        "if os.name =='posix':\n",
        "    from google.colab import drive\n",
        "\n",
        "    drive.mount('/content/drive', force_remount=True)\n",
        "\n",
        "import shutil\n",
        "shutil.copy(os.path.join(GOOGLE_DRIVE_PATH, pp.DATASET_NAME), paths.IMAGE_PATH)\n",
        "\n",
        "if os.path.exists(pp.DATASET):\n",
        "  !tar -zxvf {pp.DATASET}"
      ]
    },
    {
      "cell_type": "markdown",
      "metadata": {
        "id": "cv2LyVnQIacH"
      },
      "source": [
        "To lazy to do the  conversion again locally"
      ]
    },
    {
      "cell_type": "code",
      "execution_count": null,
      "metadata": {
        "id": "2aG_OWgTIacI"
      },
      "outputs": [],
      "source": [
        "from Tensorflow.scripts.csv_to_voc import convert_csv_to_voc\n",
        "\n",
        "\n",
        "convert_csv_to_voc(os.path.join(paths.TRAINSET_PATH, pp.CSV_FILE_NAME), paths.TRAINSET_PATH)\n",
        "convert_csv_to_voc(os.path.join(paths.TESTSET_PATH, pp.CSV_FILE_NAME), paths.TESTSET_PATH)\n",
        "convert_csv_to_voc(os.path.join(paths.DEVSET_PATH, pp.CSV_FILE_NAME), paths.DEVSET_PATH)"
      ]
    },
    {
      "cell_type": "code",
      "execution_count": null,
      "metadata": {
        "id": "ngXPHcmAIacJ"
      },
      "outputs": [],
      "source": [
        "label_map = {} # dictionary to store class names\n",
        "for label in pp.LABELS:\n",
        "    label_map[label['id']] = label['name']\n",
        "# prepare data for training\n",
        "train_data = object_detector.DataLoader.from_pascal_voc(\n",
        "        paths.TRAINSET_PATH, paths.TRAINSET_PATH, label_map=label_map)\n",
        "validation_data = object_detector.DataLoader.from_pascal_voc(\n",
        "        paths.TESTSET_PATH, paths.TESTSET_PATH, label_map=label_map)\n",
        "test_data = object_detector.DataLoader.from_pascal_voc(\n",
        "        paths.DEVSET_PATH, paths.DEVSET_PATH, label_map=label_map)"
      ]
    },
    {
      "cell_type": "code",
      "execution_count": null,
      "metadata": {
        "id": "3w4b-wYiIacK"
      },
      "outputs": [],
      "source": [
        "# choose model\n",
        "spec = object_detector.EfficientDetLite0Spec()"
      ]
    },
    {
      "cell_type": "code",
      "execution_count": null,
      "metadata": {
        "colab": {
          "base_uri": "https://localhost:8080/"
        },
        "id": "uSeRzHfNIacK",
        "outputId": "e55e90fa-a9ab-4a18-f7b5-8a1d009fb662"
      },
      "outputs": [],
      "source": [
        "# train model\n",
        "model = object_detector.create(train_data=train_data, \n",
        "                               model_spec=spec, \n",
        "                               validation_data=validation_data, \n",
        "                               epochs=34, \n",
        "                               batch_size=16, \n",
        "                               train_whole_model=True)"
      ]
    },
    {
      "cell_type": "code",
      "execution_count": null,
      "metadata": {
        "colab": {
          "base_uri": "https://localhost:8080/"
        },
        "id": "W_ijB5JiIacL",
        "outputId": "b94040ea-6981-4a56-ae4f-c6210f0bdad0"
      },
      "outputs": [],
      "source": [
        "# evaluate\n",
        "model.evaluate(test_data)"
      ]
    },
    {
      "cell_type": "code",
      "execution_count": null,
      "metadata": {
        "colab": {
          "base_uri": "https://localhost:8080/"
        },
        "id": "lPsz0BlPIacL",
        "outputId": "548bf407-79cb-4078-cd1a-3abe4dab9072"
      },
      "outputs": [],
      "source": [
        "# convert to tflite\n",
        "model.export(export_dir=TFLITE_EXPORT, tflite_filename=CUSTOM_MODEL_NAME + '.tflite', label_filename='labels.txt',\n",
        "             export_format=[ExportFormat.TFLITE, ExportFormat.LABEL])\n",
        "\n",
        "# and evaluate this\n",
        "model.evaluate_tflite(os.path.join(TFLITE_EXPORT, CUSTOM_MODEL_NAME + '.tflite'), test_data)"
      ]
    },
    {
      "cell_type": "markdown",
      "metadata": {
        "id": "Lr_eL-kHIacM"
      },
      "source": [
        "# Compile for TPU"
      ]
    },
    {
      "cell_type": "code",
      "execution_count": null,
      "metadata": {
        "colab": {
          "base_uri": "https://localhost:8080/"
        },
        "id": "Ew96z97WIacR",
        "outputId": "b25beef9-850a-4576-cddd-a82be57a894f"
      },
      "outputs": [],
      "source": [
        "# Compile for TPU\n",
        "# ! curl https://packages.cloud.google.com/apt/doc/apt-key.gpg | sudo apt-key add -\n",
        "\n",
        "# ! echo \"deb https://packages.cloud.google.com/apt coral-edgetpu-stable main\" | sudo tee /etc/apt/sources.list.d/coral-edgetpu.list\n",
        "\n",
        "# ! sudo apt-get update\n",
        "\n",
        "# ! sudo apt-get install edgetpu-compiler\n",
        "\n",
        "NUMBER_OF_TPUS =  1\n",
        "\n",
        "!edgetpu_compiler {os.path.join(TFLITE_EXPORT, CUSTOM_MODEL_NAME + '.tflite')} -d --num_segments=$NUMBER_OF_TPUS"
      ]
    },
    {
      "cell_type": "code",
      "execution_count": null,
      "metadata": {
        "colab": {
          "base_uri": "https://localhost:8080/"
        },
        "id": "7lxJyixOIacS",
        "outputId": "b1228297-67a0-4d79-8420-89e0cc276613"
      },
      "outputs": [],
      "source": [
        "# zip and download\n",
        "!zip -r {os.path.join(GOOGLE_DRIVE_PATH, CUSTOM_MODEL_NAME + '.zip')} {TFLITE_EXPORT}"
      ]
    }
  ],
  "metadata": {
    "accelerator": "GPU",
    "colab": {
      "provenance": []
    },
    "gpuClass": "standard",
    "kernelspec": {
      "display_name": "study",
      "language": "python",
      "name": "python3"
    },
    "language_info": {
      "codemirror_mode": {
        "name": "ipython",
        "version": 3
      },
      "file_extension": ".py",
      "mimetype": "text/x-python",
      "name": "python",
      "nbconvert_exporter": "python",
      "pygments_lexer": "ipython3",
      "version": "3.9.16"
    },
    "orig_nbformat": 4,
    "vscode": {
      "interpreter": {
        "hash": "23fe2c85cd4f0d6d4635f96a95cebf9dfe9e68035876b476cfa94a759db7b2c2"
      }
    }
  },
  "nbformat": 4,
  "nbformat_minor": 0
}
