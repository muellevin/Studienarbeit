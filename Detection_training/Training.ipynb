{
 "cells": [
  {
   "cell_type": "code",
   "execution_count": null,
   "metadata": {},
   "outputs": [],
   "source": [
    "# So Colab can use the python files...\n",
    "!git clone --single-branch -b develop https://github.com/muellevin/Studienarbeit.git\n",
    "%cd Studienarbeit/Detection_training"
   ]
  },
  {
   "attachments": {},
   "cell_type": "markdown",
   "metadata": {},
   "source": [
    "# 1. Setup Paths"
   ]
  },
  {
   "cell_type": "code",
   "execution_count": null,
   "metadata": {},
   "outputs": [],
   "source": [
    "import os\n",
    "import Tensorflow.scripts.Paths as pp\n",
    "\n",
    "CUSTOM_MODEL_NAME = 'ssd_mobilenet_v2_fpnlite_320x320_coco17_tpu-8' \n",
    "PRETRAINED_MODEL_NAME = 'ssd_mobilenet_v2_fpnlite_320x320_coco17_tpu-8'\n",
    "PRETRAINED_MODEL_URL = 'http://download.tensorflow.org/models/object_detection/tf2/20200711/ssd_mobilenet_v2_fpnlite_320x320_coco17_tpu-8.tar.gz'\n",
    "\n",
    "paths = pp.paths\n",
    "paths.setup_paths()\n",
    "\n",
    "CHECKPOINT_PATH = os.path.join(paths.MODEL_PATH, CUSTOM_MODEL_NAME, 'checkpoint')\n",
    "OUTPUT_PATH = os.path.join(paths.MODEL_PATH, CUSTOM_MODEL_NAME, 'export')\n",
    "SAVED_MODEL = os.path.join(OUTPUT_PATH, 'saved_model')\n",
    "TFLITE_EXPORT = os.path.join(OUTPUT_PATH, 'tfliteexport')\n",
    "os.makedirs(CHECKPOINT_PATH, exist_ok=True)\n",
    "os.makedirs(OUTPUT_PATH, exist_ok=True)\n",
    "\n",
    "PIPELINE_CONFIG = os.path.join(paths.MODEL_PATH, CUSTOM_MODEL_NAME, 'pipeline.config')"
   ]
  },
  {
   "attachments": {},
   "cell_type": "markdown",
   "metadata": {},
   "source": [
    "# 2. Download pretrained Tensorflow Model and install TFOD"
   ]
  },
  {
   "cell_type": "code",
   "execution_count": null,
   "metadata": {},
   "outputs": [],
   "source": [
    "if os.name=='nt':\n",
    "    !pip install wget\n",
    "    import wget"
   ]
  },
  {
   "cell_type": "code",
   "execution_count": null,
   "metadata": {},
   "outputs": [],
   "source": [
    "# Download TensorFlow Object detection library if not available\n",
    "if not os.path.exists(os.path.join(paths.APIMODEL_PATH, 'research', 'object_detection')):\n",
    "    command = \"git clone https://github.com/tensorflow/models {}\".format(paths.APIMODEL_PATH)\n",
    "\n",
    "    !{command}"
   ]
  },
  {
   "cell_type": "code",
   "execution_count": null,
   "metadata": {},
   "outputs": [],
   "source": [
    "# For Coral Edge TPU\n",
    "! git clone https://github.com/google-coral/tutorials.git\n",
    "\n",
    "! cp -r tutorials/docker/object_detection/scripts/* models/research/"
   ]
  },
  {
   "attachments": {},
   "cell_type": "markdown",
   "metadata": {},
   "source": [
    "Install TFOD (TensorFlow Object Detection)"
   ]
  },
  {
   "cell_type": "code",
   "execution_count": null,
   "metadata": {},
   "outputs": [],
   "source": [
    "protoc_ver = '3.20.1'\n",
    "if os.name=='posix':  \n",
    "    !apt-get install protobuf-compiler\n",
    "    !cd Tensorflow/models/research && protoc object_detection/protos/*.proto --python_out=. && cp object_detection/packages/tf2/setup.py . && python -m pip install . \n",
    "    \n",
    "if os.name=='nt':\n",
    "    url=f'https://github.com/protocolbuffers/protobuf/releases/download/v{protoc_ver}/protoc-{protoc_ver}-win64.zip'\n",
    "    wget.download(url)\n",
    "    !move protoc-{protoc_ver}-win64.zip {os.path.join(paths.PROTOC_PATH, f'protoc.zip')}\n",
    "    !cd {paths.PROTOC_PATH} && tar -xf protoc.zip\n",
    "    os.environ['PATH'] += os.pathsep + os.path.abspath(os.path.join(paths.PROTOC_PATH, 'bin'))\n",
    "    !cd Tensorflow/models/research && protoc object_detection/protos/*.proto --python_out=. && copy object_detection\\\\packages\\\\tf2\\\\setup.py setup.py && python setup.py build && python setup.py install\n",
    "    !cd Tensorflow/models/research/slim && pip install -e . "
   ]
  },
  {
   "attachments": {},
   "cell_type": "markdown",
   "metadata": {},
   "source": [
    "Verify that everything is setup correctly.  \n",
    "The script should execute with 'OK (skipped=1)'"
   ]
  },
  {
   "cell_type": "code",
   "execution_count": null,
   "metadata": {},
   "outputs": [],
   "source": [
    "%pip install tensorflow\n",
    "%pip install tensorflow_addons\n",
    "%pip install gin-config\n",
    "%pip install pyyaml"
   ]
  },
  {
   "cell_type": "code",
   "execution_count": null,
   "metadata": {},
   "outputs": [],
   "source": [
    "VERIFICATION_SCRIPT = os.path.join(paths.APIMODEL_PATH, 'research', 'object_detection', 'builders', 'model_builder_tf2_test.py')\n",
    "# Verify Installation\n",
    "!python {VERIFICATION_SCRIPT}"
   ]
  },
  {
   "cell_type": "code",
   "execution_count": null,
   "metadata": {},
   "outputs": [],
   "source": [
    "import object_detection"
   ]
  },
  {
   "cell_type": "code",
   "execution_count": null,
   "metadata": {},
   "outputs": [],
   "source": [
    "if os.name =='posix':\n",
    "    !wget {PRETRAINED_MODEL_URL}\n",
    "    !mv {PRETRAINED_MODEL_NAME+'.tar.gz'} {paths.PRETRAINED_MODEL_PATH}\n",
    "    !cd {paths.PRETRAINED_MODEL_PATH} && tar -zxvf {PRETRAINED_MODEL_NAME+'.tar.gz'}\n",
    "if os.name == 'nt':\n",
    "    wget.download(PRETRAINED_MODEL_URL)\n",
    "    !move {PRETRAINED_MODEL_NAME+'.tar.gz'} {paths.PRETRAINED_MODEL_PATH}\n",
    "    !cd {paths.PRETRAINED_MODEL_PATH} && tar -zxvf {PRETRAINED_MODEL_NAME+'.tar.gz'}"
   ]
  },
  {
   "attachments": {},
   "cell_type": "markdown",
   "metadata": {},
   "source": [
    "# 3. Create Label Map"
   ]
  },
  {
   "cell_type": "code",
   "execution_count": null,
   "metadata": {},
   "outputs": [],
   "source": [
    "with open(pp.LABELMAP, 'w') as f:\n",
    "    for label in pp.LABELS:\n",
    "        f.write('item { \\n')\n",
    "        f.write('\\tname:\\'{}\\'\\n'.format(label['name']))\n",
    "        f.write('\\tid:{}\\n'.format(label['id']))\n",
    "        f.write('}\\n')"
   ]
  },
  {
   "attachments": {},
   "cell_type": "markdown",
   "metadata": {},
   "source": [
    "# 4. Upload dataset to Colab"
   ]
  },
  {
   "attachments": {},
   "cell_type": "markdown",
   "metadata": {},
   "source": [
    "Upload the dataset to google drive"
   ]
  },
  {
   "cell_type": "code",
   "execution_count": null,
   "metadata": {},
   "outputs": [],
   "source": [
    "GOOGLE_DRIVE_PATH = '/content/drive/MyDrive/Studienarbeit'\n",
    "\n",
    "if os.name =='posix':\n",
    "    from google.colab import drive\n",
    "\n",
    "    drive.mount('/content/drive')\n",
    "\n",
    "    import shutil\n",
    "    shutil.copy(os.path.join(GOOGLE_DRIVE_PATH, pp.DATASET_NAME), paths.IMAGE_PATH)"
   ]
  },
  {
   "attachments": {},
   "cell_type": "markdown",
   "metadata": {},
   "source": [
    "Now your google drive is connected and you have to copy the dataset into the image directory"
   ]
  },
  {
   "attachments": {},
   "cell_type": "markdown",
   "metadata": {},
   "source": [
    "Verify that dataset is available"
   ]
  },
  {
   "cell_type": "code",
   "execution_count": null,
   "metadata": {},
   "outputs": [],
   "source": [
    "if not os.path.isfile(pp.DATASET):\n",
    "  print('No dataset available')\n",
    "else:\n",
    "  print('Dataset available')"
   ]
  },
  {
   "attachments": {},
   "cell_type": "markdown",
   "metadata": {},
   "source": [
    "# 5. Create TF records"
   ]
  },
  {
   "cell_type": "code",
   "execution_count": null,
   "metadata": {},
   "outputs": [],
   "source": [
    "if os.path.exists(pp.DATASET):\n",
    "  !tar -zxvf {pp.DATASET}"
   ]
  },
  {
   "cell_type": "code",
   "execution_count": null,
   "metadata": {},
   "outputs": [],
   "source": [
    "!python {pp.TF_RECORD_SCRIPT} -img_path {paths.TRAINSET_PATH} -output_path {pp.TRAINSET_RECORD_PATH}\n",
    "!python {pp.TF_RECORD_SCRIPT} -img_path {paths.TESTSET_PATH} -output_path {pp.TESTSET_RECORD_PATH}"
   ]
  },
  {
   "attachments": {},
   "cell_type": "markdown",
   "metadata": {},
   "source": [
    "# 6. Copy Model Config to Training Folder"
   ]
  },
  {
   "cell_type": "code",
   "execution_count": null,
   "metadata": {},
   "outputs": [],
   "source": [
    "if os.name =='posix':\n",
    "    !cp {os.path.join(paths.PRETRAINED_MODEL_PATH, PRETRAINED_MODEL_NAME, 'pipeline.config')} {CHECKPOINT_PATH}\n",
    "if os.name == 'nt':\n",
    "    !copy {os.path.join(paths.PRETRAINED_MODEL_PATH, PRETRAINED_MODEL_NAME, 'pipeline.config')} {CHECKPOINT_PATH}"
   ]
  },
  {
   "attachments": {},
   "cell_type": "markdown",
   "metadata": {},
   "source": [
    "# 7. Update Config for Transfer Learning"
   ]
  },
  {
   "cell_type": "code",
   "execution_count": null,
   "metadata": {},
   "outputs": [],
   "source": [
    "import tensorflow as tf\n",
    "from object_detection.protos import pipeline_pb2\n",
    "from google.protobuf import text_format\n",
    "\n",
    "pipeline_config = pipeline_pb2.TrainEvalPipelineConfig()\n",
    "with tf.io.gfile.GFile(PIPELINE_CONFIG, \"r\") as f:\n",
    "    proto_str = f.read()\n",
    "    text_format.Merge(proto_str, pipeline_config)\n",
    "\n",
    "pipeline_config.model.ssd.num_classes = len(pp.LABELS)\n",
    "pipeline_config.train_config.batch_size = 16\n",
    "pipeline_config.train_config.fine_tune_checkpoint = os.path.join(paths.PRETRAINED_MODEL_PATH, PRETRAINED_MODEL_NAME, 'checkpoint', 'ckpt-0')\n",
    "pipeline_config.train_config.fine_tune_checkpoint_type = \"detection\"\n",
    "pipeline_config.train_input_reader.label_map_path= pp.LABELMAP\n",
    "pipeline_config.train_input_reader.tf_record_input_reader.input_path[:] = [pp.TRAINSET_RECORD_PATH]\n",
    "pipeline_config.eval_input_reader[0].label_map_path = pp.LABELMAP\n",
    "pipeline_config.eval_input_reader[0].tf_record_input_reader.input_path[:] = [pp.TESTSET_RECORD_PATH]\n",
    "pipeline_config.model.ssd.box_predictor.convolutional_box_predictor.kernel_size = 3\n",
    "pipeline_config.model.ssd.box_predictor.convolutional_box_predictor.use_depthwise = True\n",
    "pipeline_config.model.ssd.feature_extractor.use_depthwise = True\n",
    "# Quantization Aware Training\n",
    "pipeline_config.graph_rewriter.quantization.delay = 0\n",
    "pipeline_config.graph_rewriter.quantization.weight_bits = 8\n",
    "pipeline_config.graph_rewriter.quantization.activation_bits = 8\n",
    "\n",
    "config_text = text_format.MessageToString(pipeline_config)\n",
    "\n",
    "with tf.io.gfile.GFile(PIPELINE_CONFIG, \"wb\") as f:\n",
    "    f.write(config_text)"
   ]
  },
  {
   "attachments": {},
   "cell_type": "markdown",
   "metadata": {},
   "source": [
    "# 8. Train the model"
   ]
  },
  {
   "cell_type": "code",
   "execution_count": null,
   "metadata": {},
   "outputs": [],
   "source": [
    "TRAINING_SCRIPT = os.path.join(paths.APIMODEL_PATH, 'research', 'object_detection', 'model_main_tf2.py')\n",
    "command = \"python {} --model_dir={} --pipeline_config_path={} --num_train_steps=2000\".format(TRAINING_SCRIPT, CHECKPOINT_PATH, PIPELINE_CONFIG)\n",
    "print(command)"
   ]
  },
  {
   "cell_type": "code",
   "execution_count": null,
   "metadata": {},
   "outputs": [],
   "source": [
    "!{command}"
   ]
  },
  {
   "attachments": {},
   "cell_type": "markdown",
   "metadata": {},
   "source": [
    "# 9. Freezing the Graph"
   ]
  },
  {
   "cell_type": "code",
   "execution_count": null,
   "metadata": {},
   "outputs": [],
   "source": [
    "FREEZE_SCRIPT = os.path.join(paths.APIMODEL_PATH, 'research', 'object_detection', 'exporter_main_v2.py ')\n",
    "command = \"python {} --input_type=image_tensor --pipeline_config_path={} --trained_checkpoint_dir={} --output_directory={}\".format(FREEZE_SCRIPT , PIPELINE_CONFIG, CHECKPOINT_PATH, OUTPUT_PATH)"
   ]
  },
  {
   "cell_type": "code",
   "execution_count": null,
   "metadata": {},
   "outputs": [],
   "source": [
    "!{command}"
   ]
  },
  {
   "attachments": {},
   "cell_type": "markdown",
   "metadata": {},
   "source": [
    "# 10 Conversion to tflit and edge-tpu"
   ]
  },
  {
   "cell_type": "code",
   "execution_count": null,
   "metadata": {},
   "outputs": [],
   "source": [
    "TFLITE_SCRIPT = os.path.join(paths.APIMODEL_PATH, 'research', 'object_detection', 'export_tflite_graph_tf2.py ')\n",
    "\n",
    "command = \"python {} --pipeline_config_path={} --trained_checkpoint_dir={} --output_directory={}\".format(TFLITE_SCRIPT , PIPELINE_CONFIG, CHECKPOINT_PATH, TFLITE_EXPORT)\n",
    "\n",
    "!{command}"
   ]
  },
  {
   "cell_type": "code",
   "execution_count": null,
   "metadata": {},
   "outputs": [],
   "source": [
    "import tensorflow as tf\n",
    "import numpy as np\n",
    "FROZEN_TFLITE_PATH = os.path.join(TFLITE_EXPORT, 'saved_model')\n",
    "TFLITE_MODEL = os.path.join(TFLITE_EXPORT, 'saved_model', 'detect.tflite')\n",
    "\n",
    "# converter = tf.lite.TFLiteConverter.from_saved_model(FROZEN_TFLITE_PATH)\n",
    "\n",
    "\n",
    "# def representative_dataset():\n",
    "#  for _ in range(100):\n",
    "#   data = np.random.rand(1, 320, 320, 3)\n",
    "#   yield [data.astype(np.float32)]\n",
    "\n",
    "# # This enables quantization\n",
    "# converter.optimizations = [tf.lite.Optimize.DEFAULT]\n",
    "# # This sets the representative dataset for quantization\n",
    "# converter.representative_dataset = representative_dataset\n",
    "# # This ensures that if any ops can't be quantized, the converter throws an error\n",
    "# converter.target_spec.supported_ops = [tf.lite.OpsSet.TFLITE_BUILTINS_INT8]\n",
    "# # For full integer quantization, though supported types defaults to int8 only, we explicitly declare it for clarity.\n",
    "# converter.target_spec.supported_types = [tf.int8]\n",
    "# # These set the input and output tensors to uint8 (added in r2.3)\n",
    "# converter.inference_input_type = tf.uint8\n",
    "# converter.inference_output_type = tf.uint8\n",
    "\n",
    "# tflite_model = converter.convert()\n",
    "\n",
    "# \"\"\"\n",
    "# ## Save the quantized model\n",
    "# \"\"\"\n",
    "\n",
    "# with open(TFLITE_MODEL, 'wb') as f:\n",
    "#  f.write(tflite_model)\n",
    "\n",
    "\n",
    "command = \"tflite_convert \\\n",
    "--saved_model_dir={} \\\n",
    "--output_file={} \\\n",
    "--enable_v1_converter\\\n",
    "--input_shapes=1,320,320,3 \\\n",
    "--input_arrays=normalized_input_image_tensor \\\n",
    "--output_arrays='TFLite_Detection_PostProcess',TFLite_Detection_PostProcess:1,TFLite_Detection_PostProcess:2,TFLite_Detection_PostProcess:3' \\\n",
    "--inference_type QUANTIZED_INT8 \\\n",
    "--mean_values=128 \\\n",
    "--std_dev_values=128 \\\n",
    "--allow_nudging_weights_to_use_fast_gemm_kernel=true \\\n",
    "--allow_custom_ops\".format(FROZEN_TFLITE_PATH, TFLITE_MODEL)\n",
    "\n",
    "!{command}\n",
    "\n",
    "interpreter = tf.lite.Interpreter(model_path = TFLITE_MODEL)\n",
    "input_details = interpreter.get_input_details()\n",
    "output_details = interpreter.get_output_details()\n",
    "print(\"Input Shape:\", input_details[0]['shape'])\n",
    "print(\"Input Type:\", input_details[0]['dtype'])\n",
    "print(\"Output Shape:\", output_details[0]['shape'])\n",
    "print(\"Output Type:\", output_details[0]['dtype'])"
   ]
  },
  {
   "cell_type": "code",
   "execution_count": null,
   "metadata": {},
   "outputs": [],
   "source": [
    "# test it\n",
    "test_img = os.path.join(paths.IMAGE_PATH, 'test_image.jpg')\n",
    "command = f'python {pp.EDGE_TPU_DETECT} -m {TFLITE_MODEL} -l {pp.LABEL_FILE_LITE} -i {pp.TEST_IMAGE} -o {test_img} -t 0.2'\n",
    "print(command)\n",
    "!{command}"
   ]
  },
  {
   "cell_type": "code",
   "execution_count": null,
   "metadata": {},
   "outputs": [],
   "source": [
    "from object_detection.utils import label_map_util\n",
    "\n",
    "category_index = label_map_util.create_category_index_from_labelmap(\n",
    "    pp.LABELMAP)\n",
    "f = open('labels.txt', 'w')\n",
    "for class_id in range(1, 91):\n",
    "  # if class_id not in category_index:\n",
    "  #   f.write('???\\n')\n",
    "  #   continue\n",
    "  # name = category_index[class_id]['name']\n",
    "  name = str(class_id)\n",
    "  f.write(name+'\\n')\n",
    "f.close()"
   ]
  },
  {
   "cell_type": "code",
   "execution_count": null,
   "metadata": {},
   "outputs": [],
   "source": [
    "from tflite_support.metadata_writers import object_detector\n",
    "from tflite_support.metadata_writers import writer_utils\n",
    "\n",
    "_TFLITE_MODEL_WITH_METADATA_PATH = os.path.join(FROZEN_TFLITE_PATH, \"model_with_metadata.tflite\")\n",
    "\n",
    "writer = object_detector.MetadataWriter.create_for_inference(\n",
    "    writer_utils.load_file(TFLITE_MODEL), input_norm_mean=[127.5], \n",
    "    input_norm_std=[127.5], label_file_paths=['labels.txt'])\n",
    "writer_utils.save_file(writer.populate(), _TFLITE_MODEL_WITH_METADATA_PATH)"
   ]
  },
  {
   "cell_type": "code",
   "execution_count": null,
   "metadata": {},
   "outputs": [],
   "source": [
    "import os\n",
    "import cv2\n",
    "import numpy as np\n",
    "import tensorflow as tf\n",
    "\n",
    "# Load the frozen graph\n",
    "model_path = FROZEN_TFLITE_PATH\n",
    "model = tf.saved_model.load(model_path)\n",
    "inputs = model.signatures['serving_default'].inputs\n",
    "outputs = model.signatures['serving_default'].outputs\n",
    "\n",
    "# Set parameters for preprocessing, postprocessing, and visualization\n",
    "input_width = 320\n",
    "input_height = 320\n",
    "input_format = 'rgb'\n",
    "score_threshold = 0.9\n",
    "class_names = [str(i+1) for i in range(90)]  # replace with your own class names\n",
    "\n",
    "# Define functions for preprocessing, postprocessing, and visualization\n",
    "def preprocess_image(image):\n",
    "    image = cv2.resize(image, (input_width, input_height))\n",
    "    image = np.expand_dims(image, axis=0)\n",
    "    return image\n",
    "\n",
    "def postprocess_output(output):\n",
    "    boxes = output['detection_boxes'][0].numpy()\n",
    "    scores = output['detection_scores'][0].numpy()\n",
    "    class_ids = output['detection_classes'][0].numpy().astype(np.int32)\n",
    "    mask = scores > score_threshold\n",
    "    boxes = boxes[mask]\n",
    "    scores = scores[mask]\n",
    "    class_ids = class_ids[mask]\n",
    "    boxes[:, 0] *= input_height\n",
    "    boxes[:, 1] *= input_width\n",
    "    boxes[:, 2] *= input_height\n",
    "    boxes[:, 3] *= input_width\n",
    "    detections = []\n",
    "    for box, score, class_id in zip(boxes, scores, class_ids):\n",
    "        detection = {\n",
    "            'box': box.tolist(),\n",
    "            'score': score.tolist(),\n",
    "            'class_id': class_id.tolist()\n",
    "        }\n",
    "        detections.append(detection)\n",
    "    return detections\n",
    "\n",
    "def visualize_output(image, detections):\n",
    "    for detection in detections:\n",
    "        box = detection['box']\n",
    "        score = detection['score']\n",
    "        class_id = detection['class_id']\n",
    "        color = (0, 255, 0)  # green\n",
    "        label = f\"{class_names[class_id]}: {score:.2f}\"\n",
    "        x1, y1, x2, y2 = box\n",
    "        x1, y1, x2, y2 = int(x1), int(y1), int(x2), int(y2)\n",
    "        cv2.rectangle(image, (y1, x1), (y2, x2), color, thickness=2)\n",
    "        cv2.putText(image, label, (y1, x1 - 10),\n",
    "                    cv2.FONT_HERSHEY_SIMPLEX, 0.5, color, thickness=2)\n",
    "    return image\n",
    "\n",
    "# Define the input and output directories\n",
    "input_dir = paths.IMAGE_PATH\n",
    "output_dir = 'test'\n",
    "os.makedirs(output_dir, exist_ok=True)\n",
    "\n",
    "# Loop over the input images and perform object detection\n",
    "for filename in os.listdir(input_dir):\n",
    "    if filename.endswith('.jpg') or filename.endswith('.jpeg') or filename.endswith('.png'):\n",
    "        # Load the input image\n",
    "        image_path = os.path.join(input_dir, filename)\n",
    "        image = cv2.imread(image_path)\n",
    "\n",
    "        # Preprocess the input image\n",
    "        input_image = preprocess_image(image)\n",
    "\n",
    "        # Run object detection on the input image\n",
    "        output = model(input_image)\n",
    "\n",
    "        # Postprocess the output detections\n",
    "        detections = postprocess_output(output)\n",
    "\n",
    "        # Visualize the output detections\n",
    "        output_image = visualize_output(cv2.resize(image, (input_width, input_height)), detections)\n",
    "\n",
    "        # Save the output image\n",
    "        output_path = os.path.join(output_dir, filename)\n",
    "        cv2.imwrite(output_path, output_image)\n"
   ]
  },
  {
   "cell_type": "code",
   "execution_count": null,
   "metadata": {},
   "outputs": [],
   "source": [
    "# test it\n",
    "test_img = os.path.join(paths.IMAGE_PATH, 'test_image.jpg')\n",
    "command = f'python {pp.EDGE_TPU_DETECT} -m yolov8n_full_integer_quant_edgetpu.tflite -l {pp.LABEL_FILE_LITE} -i {pp.TEST_IMAGE} -o {test_img} -t 0.1'\n",
    "print(command)\n",
    "!{command}"
   ]
  },
  {
   "cell_type": "code",
   "execution_count": null,
   "metadata": {},
   "outputs": [],
   "source": [
    "command = f'python {pp.TESTING_DETECT_SCRIPT} \\\n",
    "            --modeldir {FROZEN_TFLITE_PATH} \\\n",
    "            --graph model_with_metadata.tflite \\\n",
    "            --labels labels.txt \\\n",
    "            --image {pp.TEST_IMAGE} \\\n",
    "            --save_results \\\n",
    "            --threshold 0.001'\n",
    "!{command}"
   ]
  },
  {
   "cell_type": "markdown",
   "metadata": {},
   "source": [
    "# test not pycoral\n"
   ]
  },
  {
   "attachments": {},
   "cell_type": "markdown",
   "metadata": {},
   "source": [
    "For Coral Edge-TPU this cell currently only runs on debian based systems"
   ]
  },
  {
   "cell_type": "code",
   "execution_count": null,
   "metadata": {},
   "outputs": [],
   "source": [
    "# install dependencies\n",
    "# ! curl https://packages.cloud.google.com/apt/doc/apt-key.gpg | sudo apt-key add -\n",
    "\n",
    "# ! echo \"deb https://packages.cloud.google.com/apt coral-edgetpu-stable main\" | sudo tee /etc/apt/sources.list.d/coral-edgetpu.list\n",
    "\n",
    "# ! sudo apt-get update\n",
    "\n",
    "# ! sudo apt-get install edgetpu-compiler\n",
    "\n",
    "! edgetpu_compiler {TFLITE_MODEL} -d --num_segments=1 -s -a"
   ]
  },
  {
   "cell_type": "code",
   "execution_count": null,
   "metadata": {},
   "outputs": [],
   "source": [
    "test_img = os.path.join(paths.IMAGE_PATH, 'test_image.jpg')\n",
    "command = f'python {pp.EDGE_TPU_DETECT} -m detect_edgetpu.tflite -l {pp.LABEL_FILE_LITE} -i {pp.TEST_IMAGE} -o {test_img} -t 0.2'\n",
    "!{command}"
   ]
  },
  {
   "attachments": {},
   "cell_type": "markdown",
   "metadata": {},
   "source": [
    "# 11. Zip and Download Model in Colab"
   ]
  },
  {
   "cell_type": "code",
   "execution_count": null,
   "metadata": {},
   "outputs": [],
   "source": [
    "!zip -r {os.path.join(GOOGLE_DRIVE_PATH, CUSTOM_MODEL_NAME + '.zip')} {CHECKPOINT_PATH}"
   ]
  }
 ],
 "metadata": {
  "kernelspec": {
   "display_name": "study",
   "language": "python",
   "name": "python3"
  },
  "language_info": {
   "codemirror_mode": {
    "name": "ipython",
    "version": 3
   },
   "file_extension": ".py",
   "mimetype": "text/x-python",
   "name": "python",
   "nbconvert_exporter": "python",
   "pygments_lexer": "ipython3",
   "version": "3.9.16"
  },
  "orig_nbformat": 4,
  "vscode": {
   "interpreter": {
    "hash": "193d690c6e6656eb7bf6b18dc0c535963ff19e91441ffc32249113fd715b7c74"
   }
  }
 },
 "nbformat": 4,
 "nbformat_minor": 2
}
