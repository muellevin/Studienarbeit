{
 "cells": [
  {
   "cell_type": "code",
   "execution_count": null,
   "metadata": {},
   "outputs": [],
   "source": [
    "# So Colab can use the python files...\n",
    "!git clone --single-branch -b develop https://github.com/muellevin/Studienarbeit.git\n",
    "%cd Studienarbeit/Detection_training"
   ]
  },
  {
   "attachments": {},
   "cell_type": "markdown",
   "metadata": {},
   "source": [
    "# 1. Setup Paths"
   ]
  },
  {
   "cell_type": "code",
   "execution_count": null,
   "metadata": {},
   "outputs": [],
   "source": [
    "import os\n",
    "import Tensorflow.scripts.Paths as pp\n",
    "from ultralytics import YOLO\n",
    "\n",
    "paths = pp.paths\n",
    "paths.setup_paths()\n",
    "CUSTOM_MODEL_NAME = 'raccoon_yolov8n_320_B16_ep34'\n",
    "\n"
   ]
  },
  {
   "attachments": {},
   "cell_type": "markdown",
   "metadata": {},
   "source": [
    "# 2. Download pretrained Tensorflow Model and install TFOD"
   ]
  },
  {
   "cell_type": "code",
   "execution_count": null,
   "metadata": {},
   "outputs": [],
   "source": [
    "%pip install ultralytics"
   ]
  },
  {
   "attachments": {},
   "cell_type": "markdown",
   "metadata": {},
   "source": [
    "# Make the yaml file"
   ]
  },
  {
   "cell_type": "code",
   "execution_count": null,
   "metadata": {},
   "outputs": [],
   "source": [
    "with open(pp.YOLO_CONFIG_PATH, \"w\") as config:\n",
    "    config.write(\"train: ../trainset/images\\n\")\n",
    "    config.write(\"test: ../testset/images\\n\")\n",
    "    config.write(\"val: ../devset/images\\n\\n\")\n",
    "    config.write('nc: {}\\n'.format(len(pp.LABELS)))\n",
    "    config.write(\"names: [\")\n",
    "    config.write(\"error_fix, \")\n",
    "    for i in range(0, len(pp.LABELS)):\n",
    "        label = pp.LABELS[i]\n",
    "        if i < len(pp.LABELS) - 1:\n",
    "            config.write(\"'{}', \".format(label['name']))\n",
    "        else:\n",
    "            config.write(\"'{}']\\n\".format(label['name']))\n"
   ]
  },
  {
   "attachments": {},
   "cell_type": "markdown",
   "metadata": {},
   "source": [
    "Install TFOD (TensorFlow Object Detection)"
   ]
  },
  {
   "attachments": {},
   "cell_type": "markdown",
   "metadata": {},
   "source": [
    "# 4. Upload dataset to Colab"
   ]
  },
  {
   "attachments": {},
   "cell_type": "markdown",
   "metadata": {},
   "source": [
    "Upload the dataset to google drive"
   ]
  },
  {
   "cell_type": "code",
   "execution_count": null,
   "metadata": {},
   "outputs": [],
   "source": [
    "GOOGLE_DRIVE_PATH = '/content/drive/MyDrive/Studienarbeit'\n",
    "\n",
    "if os.name =='posix':\n",
    "    from google.colab import drive\n",
    "\n",
    "    drive.mount('/content/drive')\n",
    "\n",
    "    import shutil\n",
    "    shutil.copy(os.path.join(GOOGLE_DRIVE_PATH, 'yolo_' + pp.DATASET_NAME), paths.YOLO_IMG_PATH)"
   ]
  },
  {
   "cell_type": "code",
   "execution_count": null,
   "metadata": {},
   "outputs": [],
   "source": [
    "if os.path.exists(pp.YOLO_DATASET):\n",
    "  !tar -zxvf {pp.YOLO_DATASET}"
   ]
  },
  {
   "cell_type": "code",
   "execution_count": null,
   "metadata": {},
   "outputs": [],
   "source": [
    "# Load a model\n",
    "model = YOLO(\"yolov8n.yaml\")  # build a new model from scratch\n",
    "\n",
    "# Use the model\n",
    "results = model.train(\n",
    "    data=pp.YOLO_CONFIG_PATH,\n",
    "    epochs=1,\n",
    "    imgsz=320,\n",
    "    batch=16,\n",
    "    name=CUSTOM_MODEL_NAME)  # train the model"
   ]
  },
  {
   "cell_type": "code",
   "execution_count": null,
   "metadata": {},
   "outputs": [],
   "source": [
    "results = model.val()  # evaluate model performance on the validation set"
   ]
  },
  {
   "attachments": {},
   "cell_type": "markdown",
   "metadata": {},
   "source": [
    "# Zip it and save it in Google Drive"
   ]
  },
  {
   "cell_type": "code",
   "execution_count": null,
   "metadata": {},
   "outputs": [],
   "source": [
    "import shutil\n",
    "shutil.make_archive(os.path.join(GOOGLE_DRIVE_PATH, CUSTOM_MODEL_NAME), 'zip', \"runs\")"
   ]
  },
  {
   "attachments": {},
   "cell_type": "markdown",
   "metadata": {},
   "source": [
    "# Test detections on images\n",
    "\n",
    "The loss metrics and other stuff is already saved in the zip file as .png"
   ]
  },
  {
   "cell_type": "code",
   "execution_count": null,
   "metadata": {},
   "outputs": [],
   "source": [
    "# Load the trained model\n",
    "model = YOLO(os.path.join(paths.MODEL_PATH, CUSTOM_MODEL_NAME, \"weights\", \"best.pt\"))"
   ]
  },
  {
   "cell_type": "code",
   "execution_count": null,
   "metadata": {},
   "outputs": [],
   "source": [
    "# Validate model locally\n",
    "results = model.val(data=pp.YOLO_CONFIG_PATH,)  # evaluate model performance on the validation set"
   ]
  },
  {
   "cell_type": "code",
   "execution_count": null,
   "metadata": {},
   "outputs": [],
   "source": [
    "# Run on a few pictures and see how it goes.\n",
    "results = model(source=os.path.join(paths.DEVSET_PATH), show=True, conf=0.3, save=True)\n"
   ]
  }
 ],
 "metadata": {
  "kernelspec": {
   "display_name": "study",
   "language": "python",
   "name": "python3"
  },
  "language_info": {
   "codemirror_mode": {
    "name": "ipython",
    "version": 3
   },
   "file_extension": ".py",
   "mimetype": "text/x-python",
   "name": "python",
   "nbconvert_exporter": "python",
   "pygments_lexer": "ipython3",
   "version": "3.9.16"
  },
  "orig_nbformat": 4,
  "vscode": {
   "interpreter": {
    "hash": "23fe2c85cd4f0d6d4635f96a95cebf9dfe9e68035876b476cfa94a759db7b2c2"
   }
  }
 },
 "nbformat": 4,
 "nbformat_minor": 2
}
