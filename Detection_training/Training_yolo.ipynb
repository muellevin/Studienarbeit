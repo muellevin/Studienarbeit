{
 "cells": [
  {
   "cell_type": "code",
   "execution_count": null,
   "metadata": {},
   "outputs": [],
   "source": [
    "# So Colab can use the python files...\n",
    "!git clone https://github.com/muellevin/Studienarbeit.git\n",
    "%cd Studienarbeit\n",
    "!git checkout develop\n",
    "%cd Detection_training"
   ]
  },
  {
   "attachments": {},
   "cell_type": "markdown",
   "metadata": {},
   "source": [
    "# 1. Setup Paths"
   ]
  },
  {
   "cell_type": "code",
   "execution_count": 1,
   "metadata": {},
   "outputs": [
    {
     "name": "stdout",
     "output_type": "stream",
     "text": [
      "Creating c:\\dev\\DHBW\\Studienarbeit\\Detection_training\\Tensorflow\\workspace\\images\n",
      "Creating c:\\dev\\DHBW\\Studienarbeit\\Detection_training\\Tensorflow\\workspace\\images\\collected_images\n",
      "Creating c:\\dev\\DHBW\\Studienarbeit\\Detection_training\\Tensorflow\\workspace\\images\\collected_images_resized\n",
      "Creating c:\\dev\\DHBW\\Studienarbeit\\Detection_training\\Tensorflow\\workspace\\images\\trainset\n",
      "Creating c:\\dev\\DHBW\\Studienarbeit\\Detection_training\\Tensorflow\\workspace\\images\\testset\n",
      "Creating c:\\dev\\DHBW\\Studienarbeit\\Detection_training\\Tensorflow\\workspace\\images\\devset\n",
      "Creating c:\\dev\\DHBW\\Studienarbeit\\Detection_training\\Tensorflow\\workspace\n",
      "Creating c:\\dev\\DHBW\\Studienarbeit\\Detection_training\\Tensorflow\\scripts\n",
      "Creating c:\\dev\\DHBW\\Studienarbeit\\Detection_training\\Tensorflow\\models\n",
      "Creating c:\\dev\\DHBW\\Studienarbeit\\Detection_training\\Tensorflow\\workspace\\annotations\n",
      "Creating c:\\dev\\DHBW\\Studienarbeit\\Detection_training\\Tensorflow\\workspace\\models\n",
      "Creating c:\\dev\\DHBW\\Studienarbeit\\Detection_training\\Tensorflow\\workspace\\pre-trained-models\n",
      "Creating c:\\dev\\DHBW\\Studienarbeit\\Detection_training\\Tensorflow\\protoc\n",
      "Creating c:\\dev\\DHBW\\Studienarbeit\\Detection_training\\Tensorflow\\workspace\\images\\yolodata\n",
      "Creating c:\\dev\\DHBW\\Studienarbeit\\Detection_training\\Tensorflow\\workspace\\images\\yolodata\\trainset\n",
      "Creating c:\\dev\\DHBW\\Studienarbeit\\Detection_training\\Tensorflow\\workspace\\images\\yolodata\\testset\n",
      "Creating c:\\dev\\DHBW\\Studienarbeit\\Detection_training\\Tensorflow\\workspace\\images\\yolodata\\devset\n"
     ]
    }
   ],
   "source": [
    "import os\n",
    "import Tensorflow.scripts.Paths as pp\n",
    "\n",
    "paths = pp.paths\n",
    "paths.setup_paths()\n"
   ]
  },
  {
   "attachments": {},
   "cell_type": "markdown",
   "metadata": {},
   "source": [
    "# 2. Download pretrained Tensorflow Model and install TFOD"
   ]
  },
  {
   "cell_type": "code",
   "execution_count": 2,
   "metadata": {},
   "outputs": [
    {
     "name": "stdout",
     "output_type": "stream",
     "text": [
      "Collecting ultralytics\n",
      "  Downloading ultralytics-8.0.49-py3-none-any.whl (303 kB)\n",
      "     -------------------------------------- 303.7/303.7 kB 1.0 MB/s eta 0:00:00\n",
      "Collecting seaborn>=0.11.0\n",
      "  Downloading seaborn-0.12.2-py3-none-any.whl (293 kB)\n",
      "     -------------------------------------- 293.3/293.3 kB 1.8 MB/s eta 0:00:00\n",
      "Requirement already satisfied: pandas>=1.1.4 in c:\\users\\lmueller\\appdata\\roaming\\python\\python39\\site-packages (from ultralytics) (1.3.5)\n",
      "Requirement already satisfied: psutil in c:\\users\\lmueller\\.conda\\envs\\study\\lib\\site-packages (from ultralytics) (5.9.0)\n",
      "Collecting thop>=0.1.1\n",
      "  Downloading thop-0.1.1.post2209072238-py3-none-any.whl (15 kB)\n",
      "Requirement already satisfied: numpy>=1.18.5 in c:\\users\\lmueller\\appdata\\roaming\\python\\python39\\site-packages (from ultralytics) (1.24.2)\n",
      "Collecting opencv-python>=4.6.0\n",
      "  Downloading opencv_python-4.7.0.72-cp37-abi3-win_amd64.whl (38.2 MB)\n",
      "     ---------------------------------------- 38.2/38.2 MB 2.3 MB/s eta 0:00:00\n",
      "Requirement already satisfied: matplotlib>=3.2.2 in c:\\users\\lmueller\\.conda\\envs\\study\\lib\\site-packages (from ultralytics) (3.6.2)\n",
      "Requirement already satisfied: PyYAML>=5.3.1 in c:\\users\\lmueller\\appdata\\roaming\\python\\python39\\site-packages (from ultralytics) (6.0)\n",
      "Requirement already satisfied: requests>=2.23.0 in c:\\users\\lmueller\\appdata\\roaming\\python\\python39\\site-packages (from ultralytics) (2.27.1)\n",
      "Collecting torchvision>=0.8.1\n",
      "  Downloading torchvision-0.14.1-cp39-cp39-win_amd64.whl (1.1 MB)\n",
      "     ---------------------------------------- 1.1/1.1 MB 2.2 MB/s eta 0:00:00\n",
      "Requirement already satisfied: tensorboard>=2.4.1 in c:\\users\\lmueller\\.conda\\envs\\study\\lib\\site-packages (from ultralytics) (2.9.1)\n",
      "Requirement already satisfied: scipy>=1.4.1 in c:\\users\\lmueller\\appdata\\roaming\\python\\python39\\site-packages (from ultralytics) (1.10.1)\n",
      "Requirement already satisfied: Pillow>=7.1.2 in c:\\users\\lmueller\\appdata\\roaming\\python\\python39\\site-packages (from ultralytics) (9.3.0)\n",
      "Collecting torch>=1.7.0\n",
      "  Downloading torch-1.13.1-cp39-cp39-win_amd64.whl (162.5 MB)\n",
      "     -------------------------------------- 162.5/162.5 MB 2.5 MB/s eta 0:00:00\n",
      "Requirement already satisfied: certifi>=2022.12.7 in c:\\users\\lmueller\\appdata\\roaming\\python\\python39\\site-packages (from ultralytics) (2022.12.7)\n",
      "Requirement already satisfied: tqdm>=4.64.0 in c:\\users\\lmueller\\appdata\\roaming\\python\\python39\\site-packages (from ultralytics) (4.64.1)\n",
      "Requirement already satisfied: sentry-sdk in c:\\users\\lmueller\\appdata\\roaming\\python\\python39\\site-packages (from ultralytics) (1.15.0)\n",
      "Requirement already satisfied: cycler>=0.10 in c:\\users\\lmueller\\.conda\\envs\\study\\lib\\site-packages (from matplotlib>=3.2.2->ultralytics) (0.11.0)\n",
      "Requirement already satisfied: kiwisolver>=1.0.1 in c:\\users\\lmueller\\.conda\\envs\\study\\lib\\site-packages (from matplotlib>=3.2.2->ultralytics) (1.4.4)\n",
      "Requirement already satisfied: fonttools>=4.22.0 in c:\\users\\lmueller\\.conda\\envs\\study\\lib\\site-packages (from matplotlib>=3.2.2->ultralytics) (4.25.0)\n",
      "Requirement already satisfied: python-dateutil>=2.7 in c:\\users\\lmueller\\appdata\\roaming\\python\\python39\\site-packages (from matplotlib>=3.2.2->ultralytics) (2.8.1)\n",
      "Requirement already satisfied: packaging>=20.0 in c:\\users\\lmueller\\appdata\\roaming\\python\\python39\\site-packages (from matplotlib>=3.2.2->ultralytics) (23.0)\n",
      "Requirement already satisfied: pyparsing>=2.2.1 in c:\\users\\lmueller\\.conda\\envs\\study\\lib\\site-packages (from matplotlib>=3.2.2->ultralytics) (3.0.9)\n",
      "Requirement already satisfied: contourpy>=1.0.1 in c:\\users\\lmueller\\.conda\\envs\\study\\lib\\site-packages (from matplotlib>=3.2.2->ultralytics) (1.0.5)\n",
      "Requirement already satisfied: pytz>=2017.3 in c:\\users\\lmueller\\appdata\\roaming\\python\\python39\\site-packages (from pandas>=1.1.4->ultralytics) (2019.3)\n",
      "Requirement already satisfied: urllib3<1.27,>=1.21.1 in c:\\users\\lmueller\\appdata\\roaming\\python\\python39\\site-packages (from requests>=2.23.0->ultralytics) (1.26.14)\n",
      "Requirement already satisfied: charset-normalizer~=2.0.0 in c:\\users\\lmueller\\appdata\\roaming\\python\\python39\\site-packages (from requests>=2.23.0->ultralytics) (2.0.12)\n",
      "Requirement already satisfied: idna<4,>=2.5 in c:\\users\\lmueller\\appdata\\roaming\\python\\python39\\site-packages (from requests>=2.23.0->ultralytics) (3.4)\n",
      "Requirement already satisfied: tensorboard-data-server<0.7.0,>=0.6.0 in c:\\users\\lmueller\\.conda\\envs\\study\\lib\\site-packages (from tensorboard>=2.4.1->ultralytics) (0.6.1)\n",
      "Requirement already satisfied: wheel>=0.26 in c:\\users\\lmueller\\appdata\\roaming\\python\\python39\\site-packages (from tensorboard>=2.4.1->ultralytics) (0.38.4)\n",
      "Requirement already satisfied: protobuf<3.20,>=3.9.2 in c:\\users\\lmueller\\.conda\\envs\\study\\lib\\site-packages (from tensorboard>=2.4.1->ultralytics) (3.19.6)\n",
      "Requirement already satisfied: google-auth-oauthlib<0.5,>=0.4.1 in c:\\users\\lmueller\\.conda\\envs\\study\\lib\\site-packages (from tensorboard>=2.4.1->ultralytics) (0.4.6)\n",
      "Requirement already satisfied: markdown>=2.6.8 in c:\\users\\lmueller\\.conda\\envs\\study\\lib\\site-packages (from tensorboard>=2.4.1->ultralytics) (3.4.1)\n",
      "Requirement already satisfied: setuptools>=41.0.0 in c:\\users\\lmueller\\appdata\\roaming\\python\\python39\\site-packages (from tensorboard>=2.4.1->ultralytics) (67.4.0)\n",
      "Requirement already satisfied: tensorboard-plugin-wit>=1.6.0 in c:\\users\\lmueller\\.conda\\envs\\study\\lib\\site-packages (from tensorboard>=2.4.1->ultralytics) (1.8.1)\n",
      "Requirement already satisfied: werkzeug>=1.0.1 in c:\\users\\lmueller\\.conda\\envs\\study\\lib\\site-packages (from tensorboard>=2.4.1->ultralytics) (2.2.3)\n",
      "Requirement already satisfied: google-auth<3,>=1.6.3 in c:\\users\\lmueller\\appdata\\roaming\\python\\python39\\site-packages (from tensorboard>=2.4.1->ultralytics) (2.11.0)\n",
      "Requirement already satisfied: grpcio>=1.24.3 in c:\\users\\lmueller\\appdata\\roaming\\python\\python39\\site-packages (from tensorboard>=2.4.1->ultralytics) (1.51.3)\n",
      "Requirement already satisfied: absl-py>=0.4 in c:\\users\\lmueller\\.conda\\envs\\study\\lib\\site-packages (from tensorboard>=2.4.1->ultralytics) (1.4.0)\n",
      "Requirement already satisfied: typing-extensions in c:\\users\\lmueller\\appdata\\roaming\\python\\python39\\site-packages (from torch>=1.7.0->ultralytics) (4.5.0)\n",
      "Requirement already satisfied: colorama in c:\\users\\lmueller\\appdata\\roaming\\python\\python39\\site-packages (from tqdm>=4.64.0->ultralytics) (0.4.6)\n",
      "Requirement already satisfied: cachetools<6.0,>=2.0.0 in c:\\users\\lmueller\\appdata\\roaming\\python\\python39\\site-packages (from google-auth<3,>=1.6.3->tensorboard>=2.4.1->ultralytics) (5.3.0)\n",
      "Requirement already satisfied: rsa<5,>=3.1.4 in c:\\users\\lmueller\\appdata\\roaming\\python\\python39\\site-packages (from google-auth<3,>=1.6.3->tensorboard>=2.4.1->ultralytics) (4.9)\n",
      "Requirement already satisfied: pyasn1-modules>=0.2.1 in c:\\users\\lmueller\\appdata\\roaming\\python\\python39\\site-packages (from google-auth<3,>=1.6.3->tensorboard>=2.4.1->ultralytics) (0.2.8)\n",
      "Requirement already satisfied: six>=1.9.0 in c:\\users\\lmueller\\appdata\\roaming\\python\\python39\\site-packages (from google-auth<3,>=1.6.3->tensorboard>=2.4.1->ultralytics) (1.16.0)\n",
      "Requirement already satisfied: requests-oauthlib>=0.7.0 in c:\\users\\lmueller\\.conda\\envs\\study\\lib\\site-packages (from google-auth-oauthlib<0.5,>=0.4.1->tensorboard>=2.4.1->ultralytics) (1.3.1)\n",
      "Requirement already satisfied: importlib-metadata>=4.4 in c:\\users\\lmueller\\.conda\\envs\\study\\lib\\site-packages (from markdown>=2.6.8->tensorboard>=2.4.1->ultralytics) (6.0.0)\n",
      "Requirement already satisfied: MarkupSafe>=2.1.1 in c:\\users\\lmueller\\appdata\\roaming\\python\\python39\\site-packages (from werkzeug>=1.0.1->tensorboard>=2.4.1->ultralytics) (2.1.2)\n",
      "Requirement already satisfied: zipp>=0.5 in c:\\users\\lmueller\\.conda\\envs\\study\\lib\\site-packages (from importlib-metadata>=4.4->markdown>=2.6.8->tensorboard>=2.4.1->ultralytics) (3.14.0)\n",
      "Requirement already satisfied: pyasn1<0.5.0,>=0.4.6 in c:\\users\\lmueller\\appdata\\roaming\\python\\python39\\site-packages (from pyasn1-modules>=0.2.1->google-auth<3,>=1.6.3->tensorboard>=2.4.1->ultralytics) (0.4.8)\n",
      "Requirement already satisfied: oauthlib>=3.0.0 in c:\\users\\lmueller\\.conda\\envs\\study\\lib\\site-packages (from requests-oauthlib>=0.7.0->google-auth-oauthlib<0.5,>=0.4.1->tensorboard>=2.4.1->ultralytics) (3.2.2)\n",
      "Installing collected packages: torch, opencv-python, torchvision, thop, seaborn, ultralytics\n",
      "Successfully installed opencv-python-4.7.0.72 seaborn-0.12.2 thop-0.1.1.post2209072238 torch-1.13.1 torchvision-0.14.1 ultralytics-8.0.49\n",
      "Note: you may need to restart the kernel to use updated packages.\n"
     ]
    },
    {
     "name": "stderr",
     "output_type": "stream",
     "text": [
      "ERROR: pip's dependency resolver does not currently take into account all the packages that are installed. This behaviour is the source of the following dependency conflicts.\n",
      "lvis 0.5.3 requires Cython>=0.29.12, which is not installed.\n"
     ]
    }
   ],
   "source": [
    "%pip install ultralytics"
   ]
  },
  {
   "attachments": {},
   "cell_type": "markdown",
   "metadata": {},
   "source": [
    "# Make the yaml file"
   ]
  },
  {
   "cell_type": "code",
   "execution_count": 5,
   "metadata": {},
   "outputs": [],
   "source": [
    "with open(pp.YOLO_CONFIG_PATH, \"w\") as config:\n",
    "    config.write(\"path: {}\\n\".format(paths.YOLO_IMG_PATH))\n",
    "    config.write(\"train: trainset\\n\")\n",
    "    config.write(\"val: devset\\n\\n\")\n",
    "    config.write(\"names:\\n\")\n",
    "    for label in pp.LABELS:\n",
    "        config.write(\"{}: {}\\n\".format(label['id'] -1, label['name']))"
   ]
  },
  {
   "attachments": {},
   "cell_type": "markdown",
   "metadata": {},
   "source": [
    "Install TFOD (TensorFlow Object Detection)"
   ]
  },
  {
   "attachments": {},
   "cell_type": "markdown",
   "metadata": {},
   "source": [
    "# 4. Upload dataset to Colab"
   ]
  },
  {
   "attachments": {},
   "cell_type": "markdown",
   "metadata": {},
   "source": [
    "Upload the dataset to google drive"
   ]
  },
  {
   "cell_type": "code",
   "execution_count": null,
   "metadata": {},
   "outputs": [],
   "source": [
    "GOOGLE_DRIVE_PATH = '/content/drive/MyDrive/Studienarbeit'\n",
    "\n",
    "if os.name =='posix':\n",
    "    from google.colab import drive\n",
    "\n",
    "    drive.mount('/content/drive')\n",
    "\n",
    "    import shutil\n",
    "    shutil.copy(os.path.join(GOOGLE_DRIVE_PATH, 'yolo_' + pp.DATASET_NAME), paths.YOLO_IMG_PATH)"
   ]
  },
  {
   "cell_type": "code",
   "execution_count": null,
   "metadata": {},
   "outputs": [],
   "source": [
    "if os.path.exists(pp.YOLO_DATASET):\n",
    "  !tar -zxvf {pp.YOLO_DATASET}"
   ]
  },
  {
   "cell_type": "code",
   "execution_count": null,
   "metadata": {},
   "outputs": [],
   "source": [
    "from ultralytics import YOLO\n",
    "\n",
    "# Load a model\n",
    "model = YOLO(\"yolov8n.yaml\")  # build a new model from scratch\n",
    "\n",
    "# Use the model\n",
    "results = model.train(\n",
    "    data=pp.YOLO_CONFIG_PATH,\n",
    "    epochs=1,\n",
    "    imgsz=320,\n",
    "    batch=16,\n",
    "    name='raccoon_yolov8n_320_B16')  # train the model"
   ]
  }
 ],
 "metadata": {
  "kernelspec": {
   "display_name": "study",
   "language": "python",
   "name": "python3"
  },
  "language_info": {
   "codemirror_mode": {
    "name": "ipython",
    "version": 3
   },
   "file_extension": ".py",
   "mimetype": "text/x-python",
   "name": "python",
   "nbconvert_exporter": "python",
   "pygments_lexer": "ipython3",
   "version": "3.9.16"
  },
  "orig_nbformat": 4,
  "vscode": {
   "interpreter": {
    "hash": "23fe2c85cd4f0d6d4635f96a95cebf9dfe9e68035876b476cfa94a759db7b2c2"
   }
  }
 },
 "nbformat": 4,
 "nbformat_minor": 2
}
