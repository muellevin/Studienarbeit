{
 "cells": [
  {
   "cell_type": "code",
   "execution_count": null,
   "metadata": {},
   "outputs": [],
   "source": [
    "# So Colab can use the python files...\n",
    "!git clone --single-branch -b develop https://github.com/muellevin/Studienarbeit.git\n",
    "%cd Studienarbeit/Detection_training"
   ]
  },
  {
   "attachments": {},
   "cell_type": "markdown",
   "metadata": {},
   "source": [
    "# 1. Setup Paths"
   ]
  },
  {
   "cell_type": "code",
   "execution_count": null,
   "metadata": {},
   "outputs": [],
   "source": [
    "import os\n",
    "import Tensorflow.scripts.Paths as pp\n",
    "# %pip install ultralytics\n",
    "from ultralytics import YOLO\n",
    "\n",
    "paths = pp.paths\n",
    "paths.setup_paths()\n",
    "CUSTOM_MODEL_NAME = 'raccoon_yolov8n_320_B16_ep34'\n",
    "YOLO_WEIGHTS = os.path.join(paths.MODEL_PATH, CUSTOM_MODEL_NAME, \"weights\")\n",
    "YOLO_BEST = os.path.join(YOLO_WEIGHTS, 'best_saved_model')"
   ]
  },
  {
   "attachments": {},
   "cell_type": "markdown",
   "metadata": {},
   "source": [
    "# 2. Download pretrained Tensorflow Model and install TFOD"
   ]
  },
  {
   "attachments": {},
   "cell_type": "markdown",
   "metadata": {},
   "source": [
    "# Make the yaml file"
   ]
  },
  {
   "cell_type": "code",
   "execution_count": null,
   "metadata": {},
   "outputs": [],
   "source": [
    "with open(pp.YOLO_CONFIG_PATH, \"w\") as config:\n",
    "    config.write(\"train: ../trainset/images\\n\")\n",
    "    config.write(\"test: ../testset/images\\n\")\n",
    "    config.write(\"val: ../devset/images\\n\\n\")\n",
    "    config.write('nc: {}\\n'.format(len(pp.LABELS)))\n",
    "    config.write(\"names:\\n\")\n",
    "    for i in range(0, len(pp.LABELS)):\n",
    "        label = pp.LABELS[i]\n",
    "        yaml_name = '   {}: {}'.format(label['id'] - 1, label['name'])\n",
    "        if i < len(pp.LABELS) - 1:\n",
    "            config.write(f'{yaml_name}, \\n')\n",
    "        else:\n",
    "            config.write(f'{yaml_name}\\n')\n"
   ]
  },
  {
   "attachments": {},
   "cell_type": "markdown",
   "metadata": {},
   "source": [
    "Install TFOD (TensorFlow Object Detection)"
   ]
  },
  {
   "attachments": {},
   "cell_type": "markdown",
   "metadata": {},
   "source": [
    "# 4. Upload dataset to Colab"
   ]
  },
  {
   "attachments": {},
   "cell_type": "markdown",
   "metadata": {},
   "source": [
    "Upload the dataset to google drive"
   ]
  },
  {
   "cell_type": "code",
   "execution_count": null,
   "metadata": {},
   "outputs": [],
   "source": [
    "GOOGLE_DRIVE_PATH = '/content/drive/MyDrive/Studienarbeit'\n",
    "\n",
    "if os.name =='posix':\n",
    "    from google.colab import drive\n",
    "\n",
    "    drive.mount('/content/drive')\n",
    "\n",
    "    import shutil\n",
    "    shutil.copy(os.path.join(GOOGLE_DRIVE_PATH, 'yolo_' + pp.DATASET_NAME), paths.YOLO_IMG_PATH)"
   ]
  },
  {
   "cell_type": "code",
   "execution_count": null,
   "metadata": {},
   "outputs": [],
   "source": [
    "if os.path.exists(pp.YOLO_DATASET):\n",
    "  !tar -zxvf {pp.YOLO_DATASET}"
   ]
  },
  {
   "attachments": {},
   "cell_type": "markdown",
   "metadata": {},
   "source": [
    "# For Yolov8"
   ]
  },
  {
   "cell_type": "code",
   "execution_count": null,
   "metadata": {},
   "outputs": [],
   "source": [
    "# Load a model\n",
    "model = YOLO(\"yolov8n.yaml\")  # build a new model from scratch\n",
    "\n",
    "# Use the model\n",
    "results = model.train(\n",
    "    data=pp.YOLO_CONFIG_PATH,\n",
    "    epochs=20,\n",
    "    imgsz=320,\n",
    "    batch=16,\n",
    "    name=CUSTOM_MODEL_NAME)  # train the model"
   ]
  },
  {
   "cell_type": "code",
   "execution_count": null,
   "metadata": {},
   "outputs": [],
   "source": [
    "results = model.val()  # evaluate model performance on the validation set"
   ]
  },
  {
   "attachments": {},
   "cell_type": "markdown",
   "metadata": {},
   "source": [
    "# Test detections on images\n",
    "\n",
    "The loss metrics and other stuff is already saved in the zip file as .png"
   ]
  },
  {
   "cell_type": "code",
   "execution_count": null,
   "metadata": {},
   "outputs": [],
   "source": [
    "# Load the trained model\n",
    "model = YOLO(os.path.join(YOLO_WEIGHTS, \"best.pt\"), task='detect')"
   ]
  },
  {
   "cell_type": "code",
   "execution_count": null,
   "metadata": {},
   "outputs": [],
   "source": [
    "# Validate model locally\n",
    "results = model.val(data=pp.YOLO_CONFIG_PATH,)  # evaluate model performance on the validation set"
   ]
  },
  {
   "cell_type": "code",
   "execution_count": null,
   "metadata": {},
   "outputs": [],
   "source": [
    "# Run on a few pictures and see how it goes.\n",
    "results = model(source=os.path.join(paths.DEVSET_PATH), show=True, conf=0.3, save=True, task='detect')\n",
    "\n",
    "# for later analyzing of performance\n",
    "%%capture cap --no-stderr\n",
    "print(f'Raw model {CUSTOM_MODEL_NAME} before converting time interference')\n",
    "with open('runs/raw_model_perf.txt', 'w') as f:\n",
    "    f.write(cap.stdout)"
   ]
  },
  {
   "attachments": {},
   "cell_type": "markdown",
   "metadata": {},
   "source": [
    "## Convert to tflite and TPU"
   ]
  },
  {
   "cell_type": "code",
   "execution_count": null,
   "metadata": {},
   "outputs": [],
   "source": [
    "# it automatically converts for anything you need\n",
    "# Known Bug all quantization .tflite files are not working (no Detections) same goes with the edgetpu\n",
    "tflite = model.export(format='edgetpu', imgsz=320)"
   ]
  },
  {
   "cell_type": "code",
   "execution_count": null,
   "metadata": {},
   "outputs": [],
   "source": [
    "# now interfere the tflite file\n",
    "# edgetpu obviously cannot be interfered without an edgetpu so we will use the last quantization\n",
    "# Known Bug all quantization\n",
    "TFLITE_MODEL = os.path.join(YOLO_BEST, 'best_full_integer_quant.tflite')\n",
    "\n",
    "import tensorflow as tf\n",
    "interpreter = tf.lite.Interpreter(model_path = TFLITE_MODEL)\n",
    "input_details = interpreter.get_input_details()\n",
    "output_details = interpreter.get_output_details()\n",
    "print(\"Input Shape:\", input_details[0]['shape'])\n",
    "print(\"Input Type:\", input_details[0]['dtype'])\n",
    "print(\"Output Shape:\", output_details[0]['shape'])\n",
    "print(\"Output Type:\", output_details[0]['dtype'])\n",
    "\n",
    "# tflite = YOLO(TFLITE_MODEL, task='detect')\n",
    "\n",
    "# results = tflite(source=os.path.join(paths.DEVSET_PATH), imgsz=(320,320), conf=0.3, save=True)\n",
    "# print(results)\n",
    "\n",
    "# for later analyzing of performance\n",
    "%%capture cap --no-stderr\n",
    "print(f'Raw model {CUSTOM_MODEL_NAME} after converting time interference')\n",
    "with open('runs/quant_model_perf.txt', 'w') as f:\n",
    "    f.write(cap.stdout)"
   ]
  },
  {
   "attachments": {},
   "cell_type": "markdown",
   "metadata": {},
   "source": [
    "# Yolov5"
   ]
  },
  {
   "cell_type": "code",
   "execution_count": null,
   "metadata": {},
   "outputs": [],
   "source": [
    "!git clone https://github.com/ultralytics/yolov5  # clone repo\n",
    "!cd yolov5 && pip install -qr requirements.txt  # install dependencies\n",
    "\n",
    "import torch\n",
    "from IPython.display import Image, clear_output  # to display images\n",
    "\n",
    "clear_output()"
   ]
  },
  {
   "cell_type": "code",
   "execution_count": null,
   "metadata": {},
   "outputs": [],
   "source": [
    "# train it\n",
    "command = f'python train.py\\\n",
    "    --img 320 \\\n",
    "    --batch 16 \\\n",
    "    --epochs 20 \\\n",
    "    --data {pp.YOLO_CONFIG_PATH} \\\n",
    "    --weights yolo5n.pt \\\n",
    "    --cache ram'\n",
    "!{command}"
   ]
  },
  {
   "cell_type": "code",
   "execution_count": null,
   "metadata": {},
   "outputs": [],
   "source": [
    "# Validate it\n",
    "command = f'python val.py \\\n",
    "   --weight {os.path.join(YOLO_WEIGHTS, \"best.pt\")} \\\n",
    "   --data {pp.YOLO_CONFIG_PATH} \\\n",
    "   --imgsz 320'"
   ]
  },
  {
   "cell_type": "code",
   "execution_count": null,
   "metadata": {},
   "outputs": [],
   "source": [
    "# export it to edgetpu hopefully\n",
    "command = f'python export.py\\\n",
    "    --img 320 \\\n",
    "    --weights {YOLO_BEST} \\\n",
    "    --include edgetpu'\n",
    "!{command}"
   ]
  },
  {
   "cell_type": "code",
   "execution_count": null,
   "metadata": {},
   "outputs": [],
   "source": [
    "# validate that\n",
    "import torch\n",
    "\n",
    "# Model\n",
    "model = torch.hub.load('ultralytics/yolov5',                            'custom',                                                 'yolov5s_edgetpu.tflite')\n",
    "\n",
    "# Images\n",
    "img = 'https://ultralytics.com/images/zidane.jpg'  # or file, Path, PIL, OpenCV, numpy, list\n",
    "\n",
    "# Inference\n",
    "results = model(img)\n",
    "\n",
    "# Results\n",
    "results.print()  # or .show(), .save(), .crop(), .pandas(), etc."
   ]
  },
  {
   "attachments": {},
   "cell_type": "markdown",
   "metadata": {},
   "source": [
    "# Zip it and save it in Google Drive"
   ]
  },
  {
   "cell_type": "code",
   "execution_count": null,
   "metadata": {},
   "outputs": [],
   "source": [
    "import shutil\n",
    "shutil.make_archive(os.path.join(GOOGLE_DRIVE_PATH, CUSTOM_MODEL_NAME), 'zip', \"runs\")"
   ]
  }
 ],
 "metadata": {
  "kernelspec": {
   "display_name": "study",
   "language": "python",
   "name": "python3"
  },
  "language_info": {
   "codemirror_mode": {
    "name": "ipython",
    "version": 3
   },
   "file_extension": ".py",
   "mimetype": "text/x-python",
   "name": "python",
   "nbconvert_exporter": "python",
   "pygments_lexer": "ipython3",
   "version": "3.9.16"
  },
  "orig_nbformat": 4,
  "vscode": {
   "interpreter": {
    "hash": "193d690c6e6656eb7bf6b18dc0c535963ff19e91441ffc32249113fd715b7c74"
   }
  }
 },
 "nbformat": 4,
 "nbformat_minor": 2
}
